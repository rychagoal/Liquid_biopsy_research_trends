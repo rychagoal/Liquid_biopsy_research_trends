{
 "cells": [
  {
   "cell_type": "code",
   "execution_count": 1,
   "id": "83f4d2c5-4ef3-4bb6-8498-9b3e8b8dd996",
   "metadata": {},
   "outputs": [],
   "source": [
    "import pandas as pd"
   ]
  },
  {
   "cell_type": "code",
   "execution_count": 4,
   "id": "42a6bf4e-a01a-44f4-97cc-a037a791677b",
   "metadata": {},
   "outputs": [
    {
     "data": {
      "text/html": [
       "<div>\n",
       "<style scoped>\n",
       "    .dataframe tbody tr th:only-of-type {\n",
       "        vertical-align: middle;\n",
       "    }\n",
       "\n",
       "    .dataframe tbody tr th {\n",
       "        vertical-align: top;\n",
       "    }\n",
       "\n",
       "    .dataframe thead th {\n",
       "        text-align: right;\n",
       "    }\n",
       "</style>\n",
       "<table border=\"1\" class=\"dataframe\">\n",
       "  <thead>\n",
       "    <tr style=\"text-align: right;\">\n",
       "      <th></th>\n",
       "      <th>PMID</th>\n",
       "      <th>Title</th>\n",
       "      <th>Abstract</th>\n",
       "      <th>Authors</th>\n",
       "      <th>Affiliation</th>\n",
       "      <th>Year</th>\n",
       "      <th>Keywords</th>\n",
       "      <th>Journal</th>\n",
       "      <th>DOI</th>\n",
       "    </tr>\n",
       "  </thead>\n",
       "  <tbody>\n",
       "    <tr>\n",
       "      <th>0</th>\n",
       "      <td>40123626</td>\n",
       "      <td>Role of Cell-free DNA as a Non-Invasive Biomar...</td>\n",
       "      <td>Head and neck squamous cell carcinomas (HNSCC)...</td>\n",
       "      <td>Swati Singh, Rajeev Goyal, Ashna Gupta, Ritu S...</td>\n",
       "      <td>Department of Biochemistry, Lady Hardinge Medi...</td>\n",
       "      <td>2025</td>\n",
       "      <td>Cell-free DNA, Head and neck squamous cell car...</td>\n",
       "      <td>Indian journal of clinical biochemistry : IJCB</td>\n",
       "      <td>10.1007/s12291-024-01181-4</td>\n",
       "    </tr>\n",
       "    <tr>\n",
       "      <th>1</th>\n",
       "      <td>40060351</td>\n",
       "      <td>Liquid Biopsy and Colorectal Cancer.</td>\n",
       "      <td>The majority of patients with colorectal cance...</td>\n",
       "      <td>Shyam Aggarwal, Anuradha Chougle, Vineet Talwa...</td>\n",
       "      <td>Department of Medical Oncology, Sir Ganga Ram ...</td>\n",
       "      <td>2024</td>\n",
       "      <td>biomarker, driver mutations, minimal residual ...</td>\n",
       "      <td>South Asian journal of cancer</td>\n",
       "      <td>10.1055/s-0044-1801753</td>\n",
       "    </tr>\n",
       "    <tr>\n",
       "      <th>2</th>\n",
       "      <td>40060340</td>\n",
       "      <td>Screening for Colorectal Carcinoma in India: R...</td>\n",
       "      <td>Noninvasive colorectal cancer (CRC) screening ...</td>\n",
       "      <td>Mansi Agrawal, Adwaith Krishna Surendran, Kart...</td>\n",
       "      <td>Medical Student, Mahatma Gandhi Memorial Medic...</td>\n",
       "      <td>2024</td>\n",
       "      <td>cancer mortality, early detection, liquid biop...</td>\n",
       "      <td>South Asian journal of cancer</td>\n",
       "      <td>10.1055/s-0044-1791225</td>\n",
       "    </tr>\n",
       "    <tr>\n",
       "      <th>3</th>\n",
       "      <td>40027946</td>\n",
       "      <td>Advancements in precision oncology: Investigat...</td>\n",
       "      <td>While the traditional method is a biopsy of th...</td>\n",
       "      <td>Stootee Baruah, Jenifer Rajak, Arup Kumar Mitr...</td>\n",
       "      <td>Department of Microbiology, St. Xavier's Colle...</td>\n",
       "      <td>2024</td>\n",
       "      <td>Biomarker, CTC, Clinical application, Precisio...</td>\n",
       "      <td>The journal of liquid biopsy</td>\n",
       "      <td>10.1016/j.jlb.2024.100157</td>\n",
       "    </tr>\n",
       "    <tr>\n",
       "      <th>4</th>\n",
       "      <td>40027945</td>\n",
       "      <td>Unveiling the impact of corticosteroid therapy...</td>\n",
       "      <td>The liquid biopsy era has brought several poss...</td>\n",
       "      <td>Veronica Aran, Jose Orlando de Melo Junior, Ca...</td>\n",
       "      <td>Instituto Estadual do Cérebro Paulo Niemeyer (...</td>\n",
       "      <td>2024</td>\n",
       "      <td>Glioblastoma, Intracranial tumors, Liquid biop...</td>\n",
       "      <td>The journal of liquid biopsy</td>\n",
       "      <td>10.1016/j.jlb.2024.100149</td>\n",
       "    </tr>\n",
       "  </tbody>\n",
       "</table>\n",
       "</div>"
      ],
      "text/plain": [
       "       PMID                                              Title  \\\n",
       "0  40123626  Role of Cell-free DNA as a Non-Invasive Biomar...   \n",
       "1  40060351               Liquid Biopsy and Colorectal Cancer.   \n",
       "2  40060340  Screening for Colorectal Carcinoma in India: R...   \n",
       "3  40027946  Advancements in precision oncology: Investigat...   \n",
       "4  40027945  Unveiling the impact of corticosteroid therapy...   \n",
       "\n",
       "                                            Abstract  \\\n",
       "0  Head and neck squamous cell carcinomas (HNSCC)...   \n",
       "1  The majority of patients with colorectal cance...   \n",
       "2  Noninvasive colorectal cancer (CRC) screening ...   \n",
       "3  While the traditional method is a biopsy of th...   \n",
       "4  The liquid biopsy era has brought several poss...   \n",
       "\n",
       "                                             Authors  \\\n",
       "0  Swati Singh, Rajeev Goyal, Ashna Gupta, Ritu S...   \n",
       "1  Shyam Aggarwal, Anuradha Chougle, Vineet Talwa...   \n",
       "2  Mansi Agrawal, Adwaith Krishna Surendran, Kart...   \n",
       "3  Stootee Baruah, Jenifer Rajak, Arup Kumar Mitr...   \n",
       "4  Veronica Aran, Jose Orlando de Melo Junior, Ca...   \n",
       "\n",
       "                                         Affiliation  Year  \\\n",
       "0  Department of Biochemistry, Lady Hardinge Medi...  2025   \n",
       "1  Department of Medical Oncology, Sir Ganga Ram ...  2024   \n",
       "2  Medical Student, Mahatma Gandhi Memorial Medic...  2024   \n",
       "3  Department of Microbiology, St. Xavier's Colle...  2024   \n",
       "4  Instituto Estadual do Cérebro Paulo Niemeyer (...  2024   \n",
       "\n",
       "                                            Keywords  \\\n",
       "0  Cell-free DNA, Head and neck squamous cell car...   \n",
       "1  biomarker, driver mutations, minimal residual ...   \n",
       "2  cancer mortality, early detection, liquid biop...   \n",
       "3  Biomarker, CTC, Clinical application, Precisio...   \n",
       "4  Glioblastoma, Intracranial tumors, Liquid biop...   \n",
       "\n",
       "                                          Journal                         DOI  \n",
       "0  Indian journal of clinical biochemistry : IJCB  10.1007/s12291-024-01181-4  \n",
       "1                   South Asian journal of cancer      10.1055/s-0044-1801753  \n",
       "2                   South Asian journal of cancer      10.1055/s-0044-1791225  \n",
       "3                    The journal of liquid biopsy   10.1016/j.jlb.2024.100157  \n",
       "4                    The journal of liquid biopsy   10.1016/j.jlb.2024.100149  "
      ]
     },
     "execution_count": 4,
     "metadata": {},
     "output_type": "execute_result"
    }
   ],
   "source": [
    "data = pd.read_csv(\"output.csv\")\n",
    "data.head(5)"
   ]
  },
  {
   "cell_type": "code",
   "execution_count": 9,
   "id": "10047a98-cd0c-44cd-b0b6-2ae2d1e4776a",
   "metadata": {},
   "outputs": [
    {
     "data": {
      "text/plain": [
       "(9683, 9)"
      ]
     },
     "execution_count": 9,
     "metadata": {},
     "output_type": "execute_result"
    }
   ],
   "source": [
    "data.shape"
   ]
  },
  {
   "cell_type": "code",
   "execution_count": 11,
   "id": "d669dd69-07cb-45b1-9489-b653e75c958a",
   "metadata": {},
   "outputs": [
    {
     "data": {
      "text/plain": [
       "PMID              0\n",
       "Title            51\n",
       "Abstract        566\n",
       "Authors          28\n",
       "Affiliation     133\n",
       "Year              0\n",
       "Keywords       1814\n",
       "Journal           0\n",
       "DOI             120\n",
       "dtype: int64"
      ]
     },
     "execution_count": 11,
     "metadata": {},
     "output_type": "execute_result"
    }
   ],
   "source": [
    "data.isna().sum()"
   ]
  },
  {
   "cell_type": "code",
   "execution_count": 13,
   "id": "cfa8ddf5-2e61-48b7-a704-123817fcc3f7",
   "metadata": {},
   "outputs": [
    {
     "data": {
      "text/html": [
       "<div>\n",
       "<style scoped>\n",
       "    .dataframe tbody tr th:only-of-type {\n",
       "        vertical-align: middle;\n",
       "    }\n",
       "\n",
       "    .dataframe tbody tr th {\n",
       "        vertical-align: top;\n",
       "    }\n",
       "\n",
       "    .dataframe thead th {\n",
       "        text-align: right;\n",
       "    }\n",
       "</style>\n",
       "<table border=\"1\" class=\"dataframe\">\n",
       "  <thead>\n",
       "    <tr style=\"text-align: right;\">\n",
       "      <th></th>\n",
       "      <th>PMID</th>\n",
       "      <th>Title</th>\n",
       "      <th>Abstract</th>\n",
       "      <th>Authors</th>\n",
       "      <th>Affiliation</th>\n",
       "      <th>Year</th>\n",
       "      <th>Keywords</th>\n",
       "      <th>Journal</th>\n",
       "      <th>DOI</th>\n",
       "    </tr>\n",
       "  </thead>\n",
       "  <tbody>\n",
       "  </tbody>\n",
       "</table>\n",
       "</div>"
      ],
      "text/plain": [
       "Empty DataFrame\n",
       "Columns: [PMID, Title, Abstract, Authors, Affiliation, Year, Keywords, Journal, DOI]\n",
       "Index: []"
      ]
     },
     "execution_count": 13,
     "metadata": {},
     "output_type": "execute_result"
    }
   ],
   "source": [
    "empty_articles = data[data[\"Title\"] == None]\n",
    "empty_articles.head(5)"
   ]
  },
  {
   "cell_type": "code",
   "execution_count": null,
   "id": "d9840ced-28ec-4483-b047-03afb35b5ed2",
   "metadata": {},
   "outputs": [],
   "source": []
  }
 ],
 "metadata": {
  "kernelspec": {
   "display_name": "Python 3 (ipykernel)",
   "language": "python",
   "name": "python3"
  },
  "language_info": {
   "codemirror_mode": {
    "name": "ipython",
    "version": 3
   },
   "file_extension": ".py",
   "mimetype": "text/x-python",
   "name": "python",
   "nbconvert_exporter": "python",
   "pygments_lexer": "ipython3",
   "version": "3.12.2"
  }
 },
 "nbformat": 4,
 "nbformat_minor": 5
}
